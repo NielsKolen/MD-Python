{
 "cells": [
  {
   "cell_type": "markdown",
   "metadata": {},
   "source": [
    "In this project, we are simulating the growth of polymers using Monte Carlo methods. The first thing we do is import the used packages and initialise the matrices and parameters which we are going to use."
   ]
  },
  {
   "cell_type": "code",
   "execution_count": 1,
   "metadata": {
    "collapsed": true
   },
   "outputs": [],
   "source": [
    "# Import everything\n",
    "\n",
    "%matplotlib inline\n",
    "\n",
    "import numpy as np\n",
    "import math\n",
    "import matplotlib.pyplot as plt\n",
    "from scipy.optimize import curve_fit"
   ]
  },
  {
   "cell_type": "code",
   "execution_count": 7,
   "metadata": {
    "collapsed": false
   },
   "outputs": [],
   "source": [
    "#Initialize\n",
    "\n",
    "Np = 1000 # number of polymers\n",
    "Nb = 50 # number of beads\n",
    "d = 1 # distance between the polymers\n",
    "eps = 0.25 # constant for the Lennard Jones potential\n",
    "sig = 0.8  # constant for the Lennard Jones potential\n",
    "nang = 6 # number of different possible angles\n",
    "kb = 1 \n",
    "T = 1 # temperature\n",
    "    \n",
    "L = 2\n",
    "\n",
    "aUp = 2.7 # constant for setting the upper limit\n",
    "aLow = 1.5 # constant for setting the lower limit\n",
    "\n",
    "ELJ = np.zeros((Np,Nb))\n",
    "E = np.zeros((nang,1))\n",
    "weight = np.zeros((nang,1))\n",
    "PolWeight = np.ones((Np,Nb))\n",
    "Weight3 = np.zeros((Np,1))\n",
    "\n",
    "xpos = np.zeros((Np,Nb))\n",
    "ypos = np.zeros((Np,Nb))\n",
    "xpos[:,1] = 1 # first beat always at position (0,0) and second beat at (1,0)\n",
    "\n",
    "Alive = np.zeros(Nb-1) \n",
    "Alive[0] = Np\n"
   ]
  },
  {
   "cell_type": "markdown",
   "metadata": {},
   "source": [
    "After we initilialised everything, we define a function which adds a beat to every alive polymer."
   ]
  },
  {
   "cell_type": "code",
   "execution_count": 8,
   "metadata": {
    "collapsed": false
   },
   "outputs": [],
   "source": [
    "def AddBeat(polnr,L):\n",
    "    \n",
    "    offset = np.random.uniform(0,1) # random offset so that the choice of angles is different every time\n",
    "    \n",
    "    for k in range(0,nang): # creating 6 different angles for placing the beats\n",
    "        theta = offset + k*2*np.pi/nang \n",
    "        xpos[polnr,L] = xpos[polnr,L-1] + d*math.cos(theta) # new x-position\n",
    "        ypos[polnr,L] = ypos[polnr,L-1] + d*math.sin(theta) # new y-position\n",
    "        \n",
    "        for j in range(0,L): # calculating the Lennard Jones potential for the beat positions\n",
    "            xdist = xpos[polnr,L] - xpos[polnr,j]\n",
    "            ydist = ypos[polnr,L] - ypos[polnr,j]\n",
    "            r = np.sqrt(xdist**2 + ydist**2)\n",
    "            ELJ[polnr,j] = 4*eps*((sig/r)**12-(sig/r)**6)\n",
    "        \n",
    "        E[k] = np.sum(ELJ[polnr])\n",
    "        weight[k] = math.exp(-E[k]/(kb*T)) # calculate the weight for the beat position\n",
    "        \n",
    "    W = np.sum(weight)\n",
    "    wInd = W/(0.75*nang)\n",
    "    pick = np.random.uniform(0,1)\n",
    "    w = 0\n",
    "    \n",
    "    for k in range(0,nang): # choose an angle with the roulette wheel algorithm\n",
    "        w = w + weight[k]/W\n",
    "        if w >= pick:\n",
    "            theta = offset + k*2*np.pi/nang\n",
    "            xpos[polnr,L] = xpos[polnr,L-1] + math.cos(theta)\n",
    "            ypos[polnr,L] = ypos[polnr,L-1] + math.sin(theta)\n",
    "            break\n",
    "\n",
    "    return wInd"
   ]
  },
  {
   "cell_type": "markdown",
   "metadata": {},
   "source": [
    "We have now defined a function for adding a beat to each alive polymer, so it is time to grow the polymers. We are using the PERM (pruned-enriched Rosenbluth method) algorithm, which removes the 'bad' polymers (polymers who's weight is below the lower limit) and enriches the 'good' polymers (polymers who's weight is above the upper limit), to make sure the population grows towards a balanced distribution. "
   ]
  },
  {
   "cell_type": "code",
   "execution_count": 9,
   "metadata": {
    "collapsed": false
   },
   "outputs": [
    {
     "name": "stderr",
     "output_type": "stream",
     "text": [
      "C:\\Users\\niels\\Anaconda3\\lib\\site-packages\\ipykernel\\__main__.py:26: RuntimeWarning: invalid value encountered in true_divide\n",
      "C:\\Users\\niels\\Anaconda3\\lib\\site-packages\\ipykernel\\__main__.py:27: RuntimeWarning: invalid value encountered in greater_equal\n"
     ]
    }
   ],
   "source": [
    "while (L < Nb): # the simulation runs untill we have reached the maximum polymer length\n",
    "    \n",
    "    for polnr in range(Np): # adding a beat to each polymer and calculate their weight\n",
    "        W = AddBeat(polnr,L)\n",
    "        PolWeight[polnr,L] = PolWeight[polnr,L-1]*W\n",
    "        Weight3[polnr] = PolWeight[polnr,2]\n",
    "        \n",
    "    AvWeight = np.average(PolWeight[:,L])\n",
    "    polnr = 0\n",
    "    \n",
    "    while (polnr < Np): # setting the upper and lower limit\n",
    "        LowLim = aLow*AvWeight/Weight3[polnr]\n",
    "        UpLim = aUp*AvWeight/Weight3[polnr]\n",
    "        \n",
    "        if PolWeight[polnr,L] < LowLim: # there is a 50% change of the polymer dying\n",
    "            R = np.random.uniform(0,1)\n",
    "            if R < 0.5: # the polymer survives\n",
    "                PolWeight[polnr,L] = 2*PolWeight[polnr,L] # the weight is doubled\n",
    "                polnr = polnr + 1\n",
    "            else: # the polymer dies\n",
    "                xpos = np.delete(xpos, polnr, axis=0)\n",
    "                ypos = np.delete(ypos, polnr, axis=0)\n",
    "                PolWeight = np.delete(PolWeight, polnr, axis=0)\n",
    "                Weight3 = np.delete(Weight3, polnr, axis=0)\n",
    "                Np = Np - 1\n",
    "                               \n",
    "        elif PolWeight[polnr,L] > UpLim: # the polymer will be cloned\n",
    "            PolWeight[polnr,L] = 0.5*PolWeight[polnr,L] # the weight is halved\n",
    "            xpos = np.append(xpos, [xpos[polnr,:]], axis=0) # the clone is added to the list\n",
    "            ypos = np.append(ypos, [ypos[polnr,:]], axis=0)\n",
    "            PolWeight = np.append(PolWeight, [PolWeight[polnr,:]], axis=0)\n",
    "            polnr = polnr + 1\n",
    "            \n",
    "        else:\n",
    "            polnr = polnr + 1\n",
    "    \n",
    "    # re-initiliase the matrices to accomodate the new situation\n",
    "    \n",
    "    ELJ = np.zeros((len(xpos),Nb))\n",
    "    Weight3 = np.zeros((len(xpos),1))\n",
    "    Np = len(xpos)\n",
    "    Alive[L-1] = len(xpos) # check how many polymers are alive\n",
    "    L = L + 1"
   ]
  },
  {
   "cell_type": "markdown",
   "metadata": {},
   "source": [
    "Now that we have grown the polymers, we can calculate the average of the end-to-end distance at each length. The end-to-end length scales with N as R ∝ N^0.75 in two dimensions, so our average of the end-to-end length squared should scale with N as R ∝ N^1.5. We will check this by fitting a curve to the data. "
   ]
  },
  {
   "cell_type": "code",
   "execution_count": 76,
   "metadata": {
    "collapsed": false
   },
   "outputs": [
    {
     "data": {
      "image/png": "[encoded data removed]",
      "text/plain": [
       "<matplotlib.figure.Figure at 0x163a5bcc6a0>"
      ]
     },
     "metadata": {},
     "output_type": "display_data"
    }
   ],
   "source": [
    "Rsq = np.average(xpos**2 + ypos**2, axis=0) # calculating the average of the end-to-end distance squared\n",
    "N = np.linspace(3,Nb,(Nb-2))\n",
    "\n",
    "def func(N, a): # defining a function to check the scaling\n",
    "    return a*N**1.5\n",
    "\n",
    "a, sigasq = curve_fit(func, N, Rsq[2:Nb]) # calculating the proportionallity constant a and the fit error\n",
    "\n",
    "plt.title('Curve fitted to the data using $f(N) = %g * N^{1.5}$, $\\sigma_a^2= %g$' %(a,sigasq))\n",
    "plt.plot(N,Rsq[2:Nb],'rs', label=\"Data\")\n",
    "plt.plot(N,func(N, a), label=\"Fitted Curve\")\n",
    "plt.xlabel('$N$')\n",
    "plt.ylabel('$R^2$')\n",
    "plt.legend(loc='lower right')\n",
    "plt.show()"
   ]
  },
  {
   "cell_type": "markdown",
   "metadata": {},
   "source": [
    "To see how many polymers are alive at each growth step in the simulation, we plot the number of alive polymers against the number of beats. By changing the upper and lower limit, we can influence the population."
   ]
  },
  {
   "cell_type": "code",
   "execution_count": 74,
   "metadata": {
    "collapsed": false
   },
   "outputs": [
    {
     "data": {
      "image/png": "[encoded data removed]",
      "text/plain": [
       "<matplotlib.figure.Figure at 0x163a8274048>"
      ]
     },
     "metadata": {},
     "output_type": "display_data"
    }
   ],
   "source": [
    "N = np.linspace(2,Nb,(Nb-1))\n",
    "\n",
    "plt.title('Number of alive polymers at every beat adding step')\n",
    "plt.plot(N,Alive,'rs')\n",
    "plt.xlabel('$N$')\n",
    "plt.ylabel('Polymers')\n",
    "plt.show()"
   ]
  },
  {
   "cell_type": "code",
   "execution_count": null,
   "metadata": {
    "collapsed": false
   },
   "outputs": [],
   "source": []
  }
 ],
 "metadata": {
  "kernelspec": {
   "display_name": "Python 3",
   "language": "python",
   "name": "python3"
  },
  "language_info": {
   "codemirror_mode": {
    "name": "ipython",
    "version": 3
   },
   "file_extension": ".py",
   "mimetype": "text/x-python",
   "name": "python",
   "nbconvert_exporter": "python",
   "pygments_lexer": "ipython3",
   "version": "3.5.1"
  }
 },
 "nbformat": 4,
 "nbformat_minor": 0
}
