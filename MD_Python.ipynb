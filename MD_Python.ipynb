{
 "cells": [
  {
   "cell_type": "markdown",
   "metadata": {},
   "source": [
    "In this project, we are simulating the molecular dynamics of a number of argon atoms. The first thing we do is assign values to all relevant parameters, and initialise the matrices which we are going to use in this project. We have used natural units for non assigned variables (mass, energy etc)"
   ]
  },
  {
   "cell_type": "code",
   "execution_count": 4,
   "metadata": {
    "collapsed": false
   },
   "outputs": [],
   "source": [
    "# Import everything\n",
    "\n",
    "import math\n",
    "import numpy as np\n",
    "import matplotlib.pyplot as plt\n",
    "from mpl_toolkits.mplot3d import Axes3D\n",
    "\n",
    "# Assign values to relevent paramters\n",
    "\n",
    "# gas phase, Td = 3, rho = 0.3\n",
    "# solid phase, Td = 0.5, rho = 1.2\n",
    "# liquid phase, Td = 1, rho = 0.8\n",
    "Td = 1    # Desired temperature\n",
    "rho = 0.8    # Density of argon\n",
    "Nuc = 3    # Number of unit cells\n",
    "N = 4*Nuc**3    # Number of particles\n",
    "L = (N/rho)**(1/3)    # Total lenght of the box\n",
    "mu, sigma = 0, 3  \n",
    "simulationTime = 20    # Total simulation time\n",
    "h = 0.004    # Time between two simulation steps\n",
    "steps = int(simulationTime/h)    # Number of simulation steps\n",
    "t = 0    # Initial time\n",
    "rescalingsteps = int(steps/2)    # Number of times the velocity is rescaled\n",
    "\n",
    "# Initialise matrices\n",
    "\n",
    "dist = np.zeros((N,N))  \n",
    "xdif = np.zeros((N,N))\n",
    "ydif = np.zeros((N,N))\n",
    "zdif = np.zeros((N,N))\n",
    "v = np.zeros((N,3))\n",
    "v_wiggle = np.zeros((N,3))\n",
    "allFLJ = np.zeros((3,N,N))\n",
    "F = np.zeros((N,3))\n",
    "location = np.zeros((N,3))\n",
    "time = np.linspace(1, steps, steps)\n"
   ]
  },
  {
   "cell_type": "markdown",
   "metadata": {},
   "source": [
    "The atoms are placed in an FCC lattice, which is the minimum energy configuration for the Lennard-Jones system. We also assign random velocities, following a Gaussian distribution, in all three directions to all particles. Because these velocities are randomly distributed around zero, the center of mass velocity is not exactly zero. We therefor have to correct the velocities with the center of mass velocity to prevent the system from drifting in space."
   ]
  },
  {
   "cell_type": "code",
   "execution_count": null,
   "metadata": {
    "collapsed": true
   },
   "outputs": [],
   "source": [
    "def initial_location():\n",
    "    loc = []\n",
    "    for x in range(Nuc):\n",
    "        for y in range(Nuc):\n",
    "            for z in range(Nuc):\n",
    "                loc.append([x, y, z])\n",
    "                loc.append([x, 0.5 + y, 0.5 + z])\n",
    "                loc.append([0.5 + x, y, 0.5 + z])\n",
    "                loc.append([0.5 + x, 0.5 + y, z])\n",
    "    return np.array(loc) * L/Nuc\n",
    "\n",
    "\n",
    "def initial_velocity(mu, sigma):\n",
    "    v = np.random.normal(mu, sigma, size=(N,3))\n",
    "    v = v - np.average(v, axis=0)\n",
    "    return v"
   ]
  },
  {
   "cell_type": "markdown",
   "metadata": {},
   "source": [
    "After we've placed the atoms at their initial position and assigned the initial velocities, we can calculate the force due to the Lennard-Jones potential. The minimum image convention is used to ensure that the interaction is with the nearest copy of each of the particles."
   ]
  },
  {
   "cell_type": "code",
   "execution_count": null,
   "metadata": {
    "collapsed": true
   },
   "outputs": [],
   "source": [
    "def calculate_forces(location):\n",
    "    for i in range(0,N):\n",
    "        for j in range(0,N):\n",
    "            if j == i:\n",
    "                continue\n",
    "            \n",
    "            r = location[i,:]-location[j,:]\n",
    "            r = r - np.rint(r/L)*L\n",
    "            dist[i,j] = math.sqrt(np.sum(r**2))\n",
    "            xdif = r[0]\n",
    "            ydif = r[1]\n",
    "            zdif = r[2]          \n",
    "        \n",
    "            allFLJ[0,i,j] = xdif*(48*dist[i,j]**-14 - 24*dist[i,j]**-8)\n",
    "            allFLJ[1,i,j] = ydif*(48*dist[i,j]**-14 - 24*dist[i,j]**-8)\n",
    "            allFLJ[2,i,j] = zdif*(48*dist[i,j]**-14 - 24*dist[i,j]**-8)        \n",
    "    \n",
    "        F[i,0] = np.sum(allFLJ[0,i,:])\n",
    "        F[i,1] = np.sum(allFLJ[1,i,:])\n",
    "        F[i,2] = np.sum(allFLJ[2,i,:])\n",
    "    \n",
    "    return F, dist"
   ]
  },
  {
   "cell_type": "markdown",
   "metadata": {},
   "source": [
    "The integration of the equation of motion is carried out using the velocity-Verlet algorithm. We impose periodic boundary conditions to ensure that the particles will stay in the box. In this step, we also calculate the kinetic and potential energy, and make an histogram of the inner distances which will be used to derive the pair correlation function."
   ]
  },
  {
   "cell_type": "code",
   "execution_count": null,
   "metadata": {
    "collapsed": true
   },
   "outputs": [],
   "source": [
    "def update_quantities(v, F, location):\n",
    "    v_wiggle = v + h*F/2\n",
    "    location = np.mod(location + h*v_wiggle ,L)\n",
    "    F, dist = calculate_forces(location)\n",
    "    v = v_wiggle + h*F/2\n",
    "    K = 0.5*np.sum(v**2)\n",
    "    newdist = dist[dist != 0]\n",
    "    Pot = 0.5*np.sum(4*(newdist**-12 - newdist**-6))\n",
    "    hist = np.histogram(newdist, bins=50, range=(0.1*L/(2*50),L/2))[0]\n",
    "    virial = 0.5*np.sum((48*newdist**-13 - 24*newdist**-7)*newdist)\n",
    "    return v, F, location, K, Pot, hist, virial\n",
    " "
   ]
  },
  {
   "cell_type": "markdown",
   "metadata": {},
   "source": [
    "To arrive at the desired temperature, we rescale the velocity in each step untill we say the system is in equilibrium."
   ]
  },
  {
   "cell_type": "code",
   "execution_count": 5,
   "metadata": {
    "collapsed": true
   },
   "outputs": [],
   "source": [
    "def rescale_velocity(v, K):\n",
    "    lmbda = np.sqrt((N-1)*3*Td/(2*K))\n",
    "    v = v*lmbda\n",
    "    return v \n",
    "     "
   ]
  },
  {
   "cell_type": "markdown",
   "metadata": {},
   "source": [
    "Now we can perform the simulation. We plot the kinetic, potential and total energy of the system over time. It is clearly visible that when we stop rescaling the velocity, the total energy is indeed conserved. The specific heat is calculated from Lebowitz' formula, and the pressure is calculated using the virial theorem. We use the inner distance histogram to derive the pair correlation function, which is then plotted as a function over the inner distances.\n",
    " "
   ]
  },
  {
   "cell_type": "code",
   "execution_count": 7,
   "metadata": {
    "collapsed": false
   },
   "outputs": [
    {
     "name": "stdout",
     "output_type": "stream",
     "text": [
      "Average temperature is 0.996546515721\n",
      "Final temperature is 0.951461361449\n",
      "Specific heat is 2.84601239233\n",
      "Pressure is 1.74161283597\n"
     ]
    }
   ],
   "source": [
    "def perform_simulation():\n",
    "    \n",
    "    Ek = []\n",
    "    Ep = []\n",
    "    histogram = []\n",
    "    Pvirial = []\n",
    "    \n",
    "    location = np.asarray(initial_location())\n",
    "    v = initial_velocity(mu, sigma)\n",
    "    F = calculate_forces(location)[0]    \n",
    "\n",
    "    for t in range (1,(steps+1)):\n",
    "        \n",
    "        if t >= 1:\n",
    "            v, F, location, K, Pot, hist, virial = update_quantities(v, F, location)\n",
    "            Ek.append(K)\n",
    "            Ep.append(Pot)\n",
    "            histogram.append(hist)\n",
    "            Pvirial.append(virial)\n",
    "            \n",
    "        if t in range (1,rescalingsteps):\n",
    "            v = rescale_velocity(v, K)\n",
    "        \n",
    "    Ek = np.array(Ek)\n",
    "    Ep = np.array(Ep)\n",
    "    Et = Ek + Ep\n",
    "    plt.plot(time, Ek)\n",
    "    plt.plot(time, Ep)\n",
    "    plt.plot(time, Et)\n",
    "    plt.legend((\"Potential energy\", \"Kinetic energy\", \"Total energy\"))\n",
    "    plt.title(\"Energies of %g argon atoms\"%(N))\n",
    "    plt.xlabel((\"t\"))\n",
    "    plt.ylabel((\"E\"))\n",
    "    plt.show()\n",
    "    \n",
    "    T = np.average(2*Ek[rescalingsteps:]/(3*N))\n",
    "    print(\"Average temperature is \" + str(T))\n",
    "    finalT = 2*K/(3*N)\n",
    "    print(\"Final temperature is \" + str(finalT))\n",
    "   \n",
    "    n = np.average(np.array(histogram), axis=0)\n",
    "    Range = np.linspace(0.1*L/(2*50), L/2, 50)\n",
    "    g = 2/(rho*(N-1)) * n/(4*math.pi*Range**2*(Range[1]-Range[0]))\n",
    "    plt.plot(Range, g)\n",
    "    if Td == 1 and rho == 0.8:\n",
    "        plt.legend((\"Liquid\"))\n",
    "    if Td == 3 and rho == 0.3:\n",
    "        plt.legend((\"Gas\"))\n",
    "    if Td == 0.5 and rho == 1.2:\n",
    "        plt.legend((\"Solid\"))\n",
    "    plt.title((\"Pair correlation function\"))\n",
    "    plt.xlabel((\"r\"))\n",
    "    plt.ylabel((\"g\"))\n",
    "    plt.show()\n",
    "    \n",
    "    cV = 3*np.average(Ek[rescalingsteps:])**2/(2*np.average(Ek[rescalingsteps:])**2-3*N*np.var(Ek[rescalingsteps:]))\n",
    "    print(\"Specific heat is \" +str(cV))\n",
    "    \n",
    "    Pvirial = np.array(Pvirial)\n",
    "    P = 1 + 1/(3*N*T)*np.average(Pvirial[rescalingsteps:])\n",
    "    print(\"Pressure is \" +str(P))\n",
    "    \n",
    "    #return Ek, Ep, Et, T, g, finalT, cV, P,\n",
    "\n",
    "perform_simulation()\n"
   ]
  }
 ],
 "metadata": {
  "kernelspec": {
   "display_name": "Python 3",
   "language": "python",
   "name": "python3"
  },
  "language_info": {
   "codemirror_mode": {
    "name": "ipython",
    "version": 3
   },
   "file_extension": ".py",
   "mimetype": "text/x-python",
   "name": "python",
   "nbconvert_exporter": "python",
   "pygments_lexer": "ipython3",
   "version": "3.5.1"
  }
 },
 "nbformat": 4,
 "nbformat_minor": 0
}
